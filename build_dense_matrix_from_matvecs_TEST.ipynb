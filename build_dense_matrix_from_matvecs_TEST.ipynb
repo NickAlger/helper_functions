{
 "cells": [
  {
   "cell_type": "code",
   "execution_count": 2,
   "metadata": {},
   "outputs": [],
   "source": [
    "import numpy as np\n",
    "from build_dense_matrix_from_matvecs import build_dense_matrix_from_matvecs"
   ]
  },
  {
   "cell_type": "code",
   "execution_count": 3,
   "metadata": {},
   "outputs": [
    {
     "name": "stdout",
     "output_type": "stream",
     "text": [
      "556  columns computed,  1.0010573863983154  seconds elapsed.\n",
      "1108  columns computed,  2.00223708152771  seconds elapsed.\n",
      "1680  columns computed,  3.002837896347046  seconds elapsed.\n",
      "real_err= 0.0\n"
     ]
    }
   ],
   "source": [
    "# Real matrix test\n",
    "ncol_A = 2000\n",
    "nrow_A = 2830\n",
    "A = np.random.randn(nrow_A, ncol_A)\n",
    "apply_A = lambda x: np.dot(A, x)\n",
    "A2 = build_dense_matrix_from_matvecs(apply_A, ncol_A, display=True)\n",
    "real_err = np.linalg.norm(A2 - A)/np.linalg.norm(A)\n",
    "print('real_err=', real_err)"
   ]
  },
  {
   "cell_type": "code",
   "execution_count": 4,
   "metadata": {},
   "outputs": [
    {
     "name": "stdout",
     "output_type": "stream",
     "text": [
      "188  columns computed,  1.0022499561309814  seconds elapsed.\n",
      "359  columns computed,  2.004913330078125  seconds elapsed.\n",
      "533  columns computed,  3.007408618927002  seconds elapsed.\n",
      "709  columns computed,  4.009860038757324  seconds elapsed.\n",
      "892  columns computed,  5.0155839920043945  seconds elapsed.\n",
      "1071  columns computed,  6.01618504524231  seconds elapsed.\n",
      "1254  columns computed,  7.016322135925293  seconds elapsed.\n",
      "1441  columns computed,  8.019675493240356  seconds elapsed.\n",
      "1609  columns computed,  9.023890495300293  seconds elapsed.\n",
      "1785  columns computed,  10.026484251022339  seconds elapsed.\n",
      "1970  columns computed,  11.029876470565796  seconds elapsed.\n",
      "complex_err= 0.0\n"
     ]
    }
   ],
   "source": [
    "# Complex matrix test\n",
    "A = np.random.randn(nrow_A, ncol_A) + 1j * np.random.randn(nrow_A, ncol_A)\n",
    "apply_A = lambda x: np.dot(A, x)\n",
    "A2 = build_dense_matrix_from_matvecs(apply_A, ncol_A, display=True)\n",
    "complex_err = np.linalg.norm(A2 - A)/np.linalg.norm(A)\n",
    "print('complex_err=', complex_err)"
   ]
  }
 ],
 "metadata": {
  "kernelspec": {
   "display_name": "Python 3",
   "language": "python",
   "name": "python3"
  },
  "language_info": {
   "codemirror_mode": {
    "name": "ipython",
    "version": 3
   },
   "file_extension": ".py",
   "mimetype": "text/x-python",
   "name": "python",
   "nbconvert_exporter": "python",
   "pygments_lexer": "ipython3",
   "version": "3.8.5"
  }
 },
 "nbformat": 4,
 "nbformat_minor": 4
}
