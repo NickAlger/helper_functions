{
 "cells": [
  {
   "cell_type": "code",
   "execution_count": 42,
   "metadata": {},
   "outputs": [],
   "source": [
    "import numpy as np\n",
    "from fenics import *\n",
    "import matplotlib.pyplot as plt\n",
    "import scipy.sparse as sps\n",
    "import scipy.sparse.linalg as spla\n",
    "import scipy.linalg as sla"
   ]
  },
  {
   "cell_type": "markdown",
   "metadata": {},
   "source": [
    "## Poisson problem\n",
    "\n",
    "$$\\Delta u = 0$$\n",
    "\n",
    "### BC's:\n",
    " - Left: Dirichlet $u = \\sin(5 \\pi x)$\n",
    " - Top and bottom: Neumann $\\frac{du}{dn} = 0$\n",
    " - Right: Neumann $\\frac{du}{dn} = 1$\n",
    " \n",
    "### Weak form:\n",
    "\n",
    "$$\\int_\\Omega \\nabla u \\cdot \\nabla v dx = -\\int_{\\partial \\Omega} 1 v dx$$"
   ]
  },
  {
   "cell_type": "code",
   "execution_count": 2,
   "metadata": {},
   "outputs": [],
   "source": [
    "mesh_n = 20\n",
    "mesh = UnitSquareMesh(mesh_n, mesh_n)\n",
    "V = FunctionSpace(mesh, 'CG', 1)"
   ]
  },
  {
   "cell_type": "code",
   "execution_count": 17,
   "metadata": {},
   "outputs": [
    {
     "data": {
      "text/plain": [
       "Text(0.5, 1.0, 'solution')"
      ]
     },
     "execution_count": 17,
     "metadata": {},
     "output_type": "execute_result"
    },
    {
     "data": {
      "image/png": "[encoded data removed]",
      "text/plain": [
       "<Figure size 432x288 with 2 Axes>"
      ]
     },
     "metadata": {
      "needs_background": "light"
     },
     "output_type": "display_data"
    }
   ],
   "source": [
    "u_D_left = Expression('sin(omega*pi*x[1])', omega=5, degree=5)\n",
    "u_N_right = Constant(1.0)\n",
    "\n",
    "class Right(SubDomain):\n",
    "    def inside(self, x, on_boundary):\n",
    "        return near(x[0], 1.0)\n",
    "right = Right()\n",
    "    \n",
    "boundaries = MeshFunction(\"size_t\", mesh, mesh.topology().dim()-1, 0)\n",
    "boundaries.set_all(0)\n",
    "right.mark(boundaries, 1)\n",
    "\n",
    "ds_custom = Measure('ds', subdomain_data=boundaries)\n",
    "\n",
    "\n",
    "a = inner(grad(TestFunction(V)), grad(TrialFunction(V))) * dx\n",
    "f = -TestFunction(V) * u_N_right * ds_custom(1)(mesh)\n",
    "\n",
    "def left_boundary(x, on_boundary):\n",
    "    return near(x[0], 0.0)\n",
    "\n",
    "bc = DirichletBC(V, u_D_left, left_boundary)\n",
    "\n",
    "A = assemble(a)\n",
    "bc.apply(A)\n",
    "A_solver = LUSolver(A)\n",
    "F = assemble(f)\n",
    "bc.apply(F)\n",
    "\n",
    "u_soln = Function(V)\n",
    "A_solver.solve(u_soln.vector(), F)\n",
    "cm = plot(u_soln)\n",
    "plt.colorbar(cm)\n",
    "plt.title('solution')"
   ]
  },
  {
   "cell_type": "markdown",
   "metadata": {},
   "source": [
    "### Solution via Lagrange multipliers / block matrices\n",
    "\n",
    "$$\\begin{aligned}\\min_u &\\quad \\frac{1}{2}u^T A u \\\\\n",
    "\\text{such that}&\\quad Bu = f\\end{aligned} \\quad \\Leftrightarrow \\quad \\begin{bmatrix}A & B^T \\\\ B & 0\\end{bmatrix}\\begin{bmatrix}u \\\\ \\lambda\\end{bmatrix} = \\begin{bmatrix}0 \\\\ f\\end{bmatrix}$$\n",
    "\n",
    "\n",
    " - $$A_{ij} := \\int_\\Omega \\nabla \\phi_i \\cdot \\nabla \\phi_j dx$$\n",
    "\n",
    " - $$B_{ij} := \\int_{\\partial \\Omega} v \\left(\\nu \\cdot \\nabla u\\right) ds$$\n",
    " \n",
    " - $$f_i = \\int_{\\partial \\Omega} 1 v ds$$\n",
    " \n",
    " - $\\nu$ is normal vector to boundary"
   ]
  },
  {
   "cell_type": "code",
   "execution_count": 4,
   "metadata": {},
   "outputs": [],
   "source": [
    "def convert_fenics_csr_matrix_to_scipy_csr_matrix(A_fenics):\n",
    "    ai, aj, av = as_backend_type(A_fenics).mat().getValuesCSR()\n",
    "    A_scipy = sps.csr_matrix((av, aj, ai))\n",
    "    return A_scipy"
   ]
  },
  {
   "cell_type": "code",
   "execution_count": 19,
   "metadata": {},
   "outputs": [
    {
     "name": "stdout",
     "output_type": "stream",
     "text": [
      "err= 2.7680860333463017e-15\n"
     ]
    },
    {
     "data": {
      "text/plain": [
       "Text(0.5, 1.0, 'solution via block matrices')"
      ]
     },
     "execution_count": 19,
     "metadata": {},
     "output_type": "execute_result"
    },
    {
     "data": {
      "image/png": "[encoded data removed]",
      "text/plain": [
       "<Figure size 432x288 with 1 Axes>"
      ]
     },
     "metadata": {
      "needs_background": "light"
     },
     "output_type": "display_data"
    }
   ],
   "source": [
    "A_scipy = convert_fenics_csr_matrix_to_scipy_csr_matrix(A)\n",
    "\n",
    "nu = FacetNormal(mesh)\n",
    "b = TestFunction(V) * inner(nu, grad(TrialFunction(V))) * ds_custom(1)(mesh)\n",
    "B = assemble(b)\n",
    "B_scipy = convert_fenics_csr_matrix_to_scipy_csr_matrix(A)\n",
    "\n",
    "K = sps.bmat([[A_scipy, B_scipy.T],[B_scipy, None]]).tocsr()\n",
    "y = np.concatenate([np.zeros(V.dim()), F[:]])\n",
    "\n",
    "x = spla.spsolve(K,y)\n",
    "u_soln2 = Function(V)\n",
    "u_soln2.vector()[:] = x[:V.dim()].copy()\n",
    "\n",
    "err = np.linalg.norm(u_soln.vector()[:] - u_soln2.vector()[:])/np.linalg.norm(u_soln.vector()[:])\n",
    "print('err=', err)\n",
    "                                                                              \n",
    "plot(u_soln2)\n",
    "plt.title('solution via block matrices')"
   ]
  },
  {
   "cell_type": "markdown",
   "metadata": {},
   "source": [
    "## Augmented Lagrangian preconditioner:\n",
    "$$K = \\begin{bmatrix}A & B^T \\\\ B & 0\\end{bmatrix}$$\n",
    "\n",
    "$$P = \\begin{bmatrix}A + \\rho B^T M^{-1} B & 0 \\\\ 0 & \\frac{1}{\\rho} M\\end{bmatrix}$$\n",
    "\n",
    "Generalized eigenvalue problem: $K z = \\mu P z$. Eigenvalues $\\mu$ clustered around $\\pm 1$\n",
    "\n",
    " - $M$ is (lumped) mass matrix\n",
    " - $\\rho\\approx 1$ is penalty parameter"
   ]
  },
  {
   "cell_type": "code",
   "execution_count": 47,
   "metadata": {
    "scrolled": true
   },
   "outputs": [
    {
     "data": {
      "text/plain": [
       "Text(0.5, 1.0, 'eigenvalues for generalized eigenvalue problem of K and P')"
      ]
     },
     "execution_count": 47,
     "metadata": {},
     "output_type": "execute_result"
    },
    {
     "data": {
      "image/png": "[encoded data removed]",
      "text/plain": [
       "<Figure size 432x288 with 1 Axes>"
      ]
     },
     "metadata": {
      "needs_background": "light"
     },
     "output_type": "display_data"
    }
   ],
   "source": [
    "rho = 1e0\n",
    "\n",
    "M = assemble(TestFunction(V) * TrialFunction(V) * dx)\n",
    "M_scipy = convert_fenics_csr_matrix_to_scipy_csr_matrix(M)\n",
    "\n",
    "M_dense = M_scipy.toarray() # dense matrices for rapid prototyping; don't use dense in real problem\n",
    "K_dense = K.toarray()\n",
    "A_dense = A_scipy.toarray()\n",
    "B_dense = B_scipy.toarray()\n",
    "\n",
    "ML_dense = np.diag(M_dense.diagonal())\n",
    "iML_dense = np.diag(1./M_dense.diagonal())\n",
    "\n",
    "\n",
    "P11 = A_dense + rho * np.dot(B_dense.T, np.dot(iML_dense, B_dense))\n",
    "P12 = np.zeros((V.dim(), V.dim()))\n",
    "P21 = np.zeros((V.dim(), V.dim()))\n",
    "P22 = (1./rho) * ML_dense\n",
    "P = np.bmat([[P11, P12],[P21, P22]])\n",
    "\n",
    "ee, _ = sla.eigh(K_dense, P)\n",
    "plt.plot(ee)\n",
    "plt.title('eigenvalues for generalized eigenvalue problem of K and P')"
   ]
  }
 ],
 "metadata": {
  "kernelspec": {
   "display_name": "Python 3",
   "language": "python",
   "name": "python3"
  },
  "language_info": {
   "codemirror_mode": {
    "name": "ipython",
    "version": 3
   },
   "file_extension": ".py",
   "mimetype": "text/x-python",
   "name": "python",
   "nbconvert_exporter": "python",
   "pygments_lexer": "ipython3",
   "version": "3.8.5"
  }
 },
 "nbformat": 4,
 "nbformat_minor": 4
}
