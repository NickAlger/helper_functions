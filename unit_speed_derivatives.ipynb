{
 "cells": [
  {
   "cell_type": "code",
   "execution_count": 1,
   "metadata": {},
   "outputs": [],
   "source": [
    "import numpy as np\n",
    "from math import factorial\n",
    "\n",
    "def unit_speed_derivatives(YY):\n",
    "    # Let y(t) be the curve solving the following variable speed ODE:\n",
    "    #     /y'(t) = v(y(t))\n",
    "    #     \\y(0)  = y0\n",
    "    # Let x(s) solve the following unit speed version of the ODE:\n",
    "    #     /x'(s) = v(x(s)) / ||v(x(s))||\n",
    "    #     \\x(0)  = y0\n",
    "    # Given an array of derivatives of the variable speed path evaluated at 0,\n",
    "    #     YY:= [y'(0), y''(0), y'''(0), ...],\n",
    "    # this function computes derivatives of the unit speed path evaluated at 0,\n",
    "    #     XX:= [x'(0), x''(0), x'''(0), ...].\n",
    "    # Notice that we can compute XX from YY without knowing the vector field v.\n",
    "    m = YY.shape[0]\n",
    "    N = YY.shape[1]-1 # number of derivatives\n",
    "    ww = np.zeros([m, N+1, N+1]) # zero'th \"derivatives\"\n",
    "    for k in range(N+1):\n",
    "        ww[:,0,k] = YY[:,k]/(np.linalg.norm(YY[:,0])**(k+1))\n",
    "\n",
    "    for d in range(1,N+1): #first diagonal to Nth diagonal, no zeroth diagonal\n",
    "        for n in range(1,d+1):\n",
    "            k = d-n+1\n",
    "            ww[:,n,k-1] = ww[:,n-1,k] - k*multinom3(ww[:, :n, k-1], ww[:, :n, 0], ww[:, :n, 1])\n",
    "\n",
    "    XX = ww[:, :, 0]\n",
    "    return XX\n",
    "\n",
    "\n",
    "def multinom3(U,V,W):\n",
    "    n = U.shape[1]-1\n",
    "    z = np.zeros(U.shape[0])\n",
    "    zero_dotdot_n = np.arange(n+1)\n",
    "    for ii in zero_dotdot_n:\n",
    "        n_minus_ii_dotdot_zero = np.arange(n-ii, -1, -1)\n",
    "        for jj in n_minus_ii_dotdot_zero:\n",
    "            kk = n - jj - ii\n",
    "            c = factorial(n) / (factorial(ii) * factorial(jj) * factorial(kk))\n",
    "            z = z +  c * U[:,ii] * np.dot(V[:,jj], W[:,kk])\n",
    "    return z"
   ]
  },
  {
   "cell_type": "markdown",
   "metadata": {},
   "source": [
    "# Test"
   ]
  },
  {
   "cell_type": "code",
   "execution_count": 2,
   "metadata": {},
   "outputs": [
    {
     "name": "stdout",
     "output_type": "stream",
     "text": [
      "err= 6.500262615625636e-08\n"
     ]
    }
   ],
   "source": [
    "from scipy.integrate import solve_ivp\n",
    "from scipy import misc\n",
    "\n",
    "def v_unit(t, x):\n",
    "    return np.array([-x[1], x[0]])/np.linalg.norm(x) # circle\n",
    "\n",
    "\n",
    "def scaling_factor(x):\n",
    "    return 1.0 + (x[0] - 0.5)**2 + (x[1] + 0.3)**2 + (x[0] + 0.2)**4 + (x[1] - 0.1)**4 # Randomish positive polynomial\n",
    "\n",
    "\n",
    "def v(t, x):\n",
    "    return v_unit(t, x) * scaling_factor(x)\n",
    "\n",
    "\n",
    "y0 = np.array([1,1])/np.sqrt(2.)\n",
    "\n",
    "ode_tol = 5e-14\n",
    "ode_method = 'RK45'\n",
    "finite_difference_step_size = 5e-3\n",
    "num_finite_difference_steps = 13\n",
    "\n",
    "def y_fct0(T):\n",
    "    return solve_ivp(v, (0.0, T), y0, rtol=ode_tol, atol=ode_tol, method=ode_method).y[0,-1]\n",
    "\n",
    "def y_fct1(T):\n",
    "    return solve_ivp(v, (0.0, T), y0, rtol=ode_tol, atol=ode_tol, method=ode_method).y[1,-1]\n",
    "\n",
    "num_derivatives = 4\n",
    "YY = np.zeros((2, num_derivatives))\n",
    "for k in range(num_derivatives):\n",
    "    YY[0,k] = misc.derivative(y_fct0, 0.0, dx=finite_difference_step_size, n=k + 1, order=num_finite_difference_steps)\n",
    "    YY[1,k] = misc.derivative(y_fct1, 0.0, dx=finite_difference_step_size, n=k + 1, order=num_finite_difference_steps)\n",
    "\n",
    "XX = unit_speed_derivatives(YY)\n",
    "\n",
    "XX_true = (1. / np.sqrt(2.)) * np.array([[-1, -1,  1, 1, -1, -1,  1, 1, -1, -1,  1, 1],\n",
    "                                         [ 1, -1, -1, 1,  1, -1, -1, 1,  1, -1, -1, 1]])\n",
    "XX_true = XX_true[:,:num_derivatives]\n",
    "\n",
    "err = np.linalg.norm(XX - XX_true)\n",
    "print('err=', err)"
   ]
  }
 ],
 "metadata": {
  "kernelspec": {
   "display_name": "Python 3",
   "language": "python",
   "name": "python3"
  },
  "language_info": {
   "codemirror_mode": {
    "name": "ipython",
    "version": 3
   },
   "file_extension": ".py",
   "mimetype": "text/x-python",
   "name": "python",
   "nbconvert_exporter": "python",
   "pygments_lexer": "ipython3",
   "version": "3.8.5"
  }
 },
 "nbformat": 4,
 "nbformat_minor": 4
}
